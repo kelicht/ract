{
 "cells": [
  {
   "cell_type": "code",
   "execution_count": 55,
   "metadata": {},
   "outputs": [],
   "source": [
    "import numpy as np\n",
    "import pandas as pd\n",
    "import matplotlib.pyplot as plt\n",
    "import seaborn as sns\n",
    "from sklearn.metrics import f1_score, roc_auc_score\n",
    "np.random.seed(0)\n",
    "\n",
    "import warnings\n",
    "warnings.filterwarnings('ignore')"
   ]
  },
  {
   "cell_type": "code",
   "execution_count": 56,
   "metadata": {},
   "outputs": [],
   "source": [
    "from datasets import Dataset\n",
    "\n",
    "D = Dataset(dataset='f')\n",
    "X_tr, X_ts, y_tr, y_ts = D.get_dataset(split=True)\n",
    "params = D.params"
   ]
  },
  {
   "cell_type": "code",
   "execution_count": 57,
   "metadata": {},
   "outputs": [],
   "source": [
    "from ract import Action\n",
    "\n",
    "action = Action(X_tr, y_target=0, cost_type='MPS', cost_budget=0.3, **params)"
   ]
  },
  {
   "cell_type": "code",
   "execution_count": 58,
   "metadata": {},
   "outputs": [],
   "source": [
    "from ract import RecourseTreeClassifier\n",
    "\n",
    "clf = RecourseTreeClassifier(action, max_depth=2)"
   ]
  },
  {
   "cell_type": "code",
   "execution_count": 59,
   "metadata": {},
   "outputs": [
    {
     "name": "stdout",
     "output_type": "stream",
     "text": [
      "Acc.: 0.7253 | F1: 0.7504 | AUC: 0.7224\n"
     ]
    }
   ],
   "source": [
    "clf.action.alpha = 0.0\n",
    "clf = clf.fit(X_tr, y_tr)\n",
    "\n",
    "print('Acc.: {:.4} | F1: {:.4} | AUC: {:.4}'.format(clf.score(X_ts, y_ts), f1_score(y_ts, clf.predict(X_ts)), roc_auc_score(y_ts, clf.predict_proba(X_ts)[:, 1])))"
   ]
  },
  {
   "cell_type": "code",
   "execution_count": 60,
   "metadata": {},
   "outputs": [
    {
     "name": "stdout",
     "output_type": "stream",
     "text": [
      "- If ExternalRiskEstimate <= 73:\n",
      "\t- If NumTotalTrades <= 70:\n",
      "\t\t- predict: Bad (70.2%)\n",
      "\t- Else:\n",
      "\t\t- predict: Good (66.7%)\n",
      "- Else:\n",
      "\t- If AverageMInFile <= 32:\n",
      "\t\t- predict: Bad (60.8%)\n",
      "\t- Else:\n",
      "\t\t- predict: Good (71.7%)\n"
     ]
    }
   ],
   "source": [
    "clf.print_tree()"
   ]
  },
  {
   "cell_type": "code",
   "execution_count": 61,
   "metadata": {},
   "outputs": [
    {
     "name": "stdout",
     "output_type": "stream",
     "text": [
      "Cost: 0.0 | Validity: 0.0% (0/1432) | Recourse: 42.0% (1036/2468)\n"
     ]
    }
   ],
   "source": [
    "X_target = X_ts[clf.predict(X_ts) != action.y_target]\n",
    "results = clf.explain_action(X_target)\n",
    "\n",
    "print('Cost: {:.4} | Validity: {:.1%} ({}/{}) | Recourse: {:.1%} ({}/{})'.format(results['cost'].mean(), \n",
    "                                                                                 results['cost-validity'].mean(), \n",
    "                                                                                 results['cost-validity'].sum(), \n",
    "                                                                                 results['cost-validity'].shape[0],\n",
    "                                                                                 1 - (~results['cost-validity']).sum() / X_ts.shape[0], \n",
    "                                                                                 X_ts.shape[0] - (~results['cost-validity']).sum(), X_ts.shape[0]))"
   ]
  },
  {
   "cell_type": "code",
   "execution_count": 68,
   "metadata": {},
   "outputs": [
    {
     "name": "stdout",
     "output_type": "stream",
     "text": [
      "Acc.: 0.7184 | F1: 0.7243 | AUC: 0.7187\n"
     ]
    }
   ],
   "source": [
    "clf.action.alpha = 0.1\n",
    "clf = clf.fit(X_tr, y_tr)\n",
    "\n",
    "print('Acc.: {:.4} | F1: {:.4} | AUC: {:.4}'.format(clf.score(X_ts, y_ts), f1_score(y_ts, clf.predict(X_ts)), roc_auc_score(y_ts, clf.predict_proba(X_ts)[:, 1])))"
   ]
  },
  {
   "cell_type": "code",
   "execution_count": 69,
   "metadata": {},
   "outputs": [
    {
     "name": "stdout",
     "output_type": "stream",
     "text": [
      "- If ExternalRiskEstimate <= 70:\n",
      "\t- If NetFractionRevolvingBurden <= 150:\n",
      "\t\t- predict: Bad (74.1%)\n",
      "\t- Else:\n",
      "\t\t- predict: Good (0.0%)\n",
      "- Else:\n",
      "\t- If NetFractionRevolvingBurden <= 63:\n",
      "\t\t- predict: Good (68.0%)\n",
      "\t- Else:\n",
      "\t\t- predict: Bad (60.5%)\n"
     ]
    }
   ],
   "source": [
    "clf.print_tree()"
   ]
  },
  {
   "cell_type": "code",
   "execution_count": 70,
   "metadata": {},
   "outputs": [
    {
     "name": "stdout",
     "output_type": "stream",
     "text": [
      "Cost: 0.3568 | Validity: 50.7% (627/1237) | Recourse: 75.3% (1858/2468)\n"
     ]
    }
   ],
   "source": [
    "X_target = X_ts[clf.predict(X_ts) != action.y_target]\n",
    "results = clf.explain_action(X_target)\n",
    "\n",
    "print('Cost: {:.4} | Validity: {:.1%} ({}/{}) | Recourse: {:.1%} ({}/{})'.format(results['cost'].mean(), \n",
    "                                                                                 results['cost-validity'].mean(), \n",
    "                                                                                 results['cost-validity'].sum(), \n",
    "                                                                                 results['cost-validity'].shape[0],\n",
    "                                                                                 1 - (~results['cost-validity']).sum() / X_ts.shape[0], \n",
    "                                                                                 X_ts.shape[0] - (~results['cost-validity']).sum(), X_ts.shape[0]))"
   ]
  },
  {
   "cell_type": "code",
   "execution_count": null,
   "metadata": {},
   "outputs": [],
   "source": []
  }
 ],
 "metadata": {
  "kernelspec": {
   "display_name": "Python 3",
   "language": "python",
   "name": "python3"
  },
  "language_info": {
   "codemirror_mode": {
    "name": "ipython",
    "version": 3
   },
   "file_extension": ".py",
   "mimetype": "text/x-python",
   "name": "python",
   "nbconvert_exporter": "python",
   "pygments_lexer": "ipython3",
   "version": "3.10.10"
  },
  "orig_nbformat": 4
 },
 "nbformat": 4,
 "nbformat_minor": 2
}
