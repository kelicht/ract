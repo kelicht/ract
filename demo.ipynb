{
 "cells": [
  {
   "cell_type": "markdown",
   "metadata": {},
   "source": [
    "# Demonstration: Recourse-Aware Classification Tree (RACT)\n",
    "A demonstration of *Recourse-Aware Classification Tree (RACT)*. "
   ]
  },
  {
   "cell_type": "code",
   "execution_count": 1,
   "metadata": {},
   "outputs": [],
   "source": [
    "import numpy as np\n",
    "import pandas as pd\n",
    "import matplotlib.pyplot as plt\n",
    "import seaborn as sns\n",
    "np.random.seed(0)\n",
    "\n",
    "import warnings\n",
    "warnings.filterwarnings('ignore')\n",
    "\n",
    "from ract import Action, RecourseTreeClassifier\n",
    "from datasets import Dataset\n",
    "\n",
    "results = {\n",
    "    'Method': [],\n",
    "    'Accuracy': [], \n",
    "    'Recourse': []\n",
    "}"
   ]
  },
  {
   "cell_type": "markdown",
   "metadata": {},
   "source": [
    "## Step 1. Prepare Dataset\n",
    "Before learning classification trees, we prepare a dataset. \n",
    "In this library, we provide (1) ``Dataset`` class for handling sample datasets in ``./datasets`` directory and (2) ``preprocess`` function for handling a passed DataFrame. \n",
    "We need to specify the constraint on each feature in the dataset (e.g., immutable or not, increasing only, ...). "
   ]
  },
  {
   "cell_type": "code",
   "execution_count": 2,
   "metadata": {},
   "outputs": [
    {
     "data": {
      "text/html": [
       "<div>\n",
       "<style scoped>\n",
       "    .dataframe tbody tr th:only-of-type {\n",
       "        vertical-align: middle;\n",
       "    }\n",
       "\n",
       "    .dataframe tbody tr th {\n",
       "        vertical-align: top;\n",
       "    }\n",
       "\n",
       "    .dataframe thead th {\n",
       "        text-align: right;\n",
       "    }\n",
       "</style>\n",
       "<table border=\"1\" class=\"dataframe\">\n",
       "  <thead>\n",
       "    <tr style=\"text-align: right;\">\n",
       "      <th></th>\n",
       "      <th>Feature</th>\n",
       "      <th>Type</th>\n",
       "      <th>Min</th>\n",
       "      <th>Max</th>\n",
       "      <th>Immutable</th>\n",
       "      <th>Constraint</th>\n",
       "    </tr>\n",
       "  </thead>\n",
       "  <tbody>\n",
       "    <tr>\n",
       "      <th>0</th>\n",
       "      <td>White</td>\n",
       "      <td>Binary</td>\n",
       "      <td>0.0</td>\n",
       "      <td>1.0</td>\n",
       "      <td>Yes</td>\n",
       "      <td>Fix</td>\n",
       "    </tr>\n",
       "    <tr>\n",
       "      <th>1</th>\n",
       "      <td>Alchy</td>\n",
       "      <td>Binary</td>\n",
       "      <td>0.0</td>\n",
       "      <td>1.0</td>\n",
       "      <td>No</td>\n",
       "      <td>Nothing</td>\n",
       "    </tr>\n",
       "    <tr>\n",
       "      <th>2</th>\n",
       "      <td>Junky</td>\n",
       "      <td>Binary</td>\n",
       "      <td>0.0</td>\n",
       "      <td>1.0</td>\n",
       "      <td>No</td>\n",
       "      <td>Nothing</td>\n",
       "    </tr>\n",
       "    <tr>\n",
       "      <th>3</th>\n",
       "      <td>Super</td>\n",
       "      <td>Binary</td>\n",
       "      <td>0.0</td>\n",
       "      <td>1.0</td>\n",
       "      <td>Yes</td>\n",
       "      <td>Fix</td>\n",
       "    </tr>\n",
       "    <tr>\n",
       "      <th>4</th>\n",
       "      <td>Married</td>\n",
       "      <td>Binary</td>\n",
       "      <td>0.0</td>\n",
       "      <td>1.0</td>\n",
       "      <td>Yes</td>\n",
       "      <td>Fix</td>\n",
       "    </tr>\n",
       "    <tr>\n",
       "      <th>5</th>\n",
       "      <td>Felon</td>\n",
       "      <td>Binary</td>\n",
       "      <td>0.0</td>\n",
       "      <td>1.0</td>\n",
       "      <td>Yes</td>\n",
       "      <td>Fix</td>\n",
       "    </tr>\n",
       "    <tr>\n",
       "      <th>6</th>\n",
       "      <td>Workrel</td>\n",
       "      <td>Binary</td>\n",
       "      <td>0.0</td>\n",
       "      <td>1.0</td>\n",
       "      <td>No</td>\n",
       "      <td>Nothing</td>\n",
       "    </tr>\n",
       "    <tr>\n",
       "      <th>7</th>\n",
       "      <td>Propty</td>\n",
       "      <td>Binary</td>\n",
       "      <td>0.0</td>\n",
       "      <td>1.0</td>\n",
       "      <td>Yes</td>\n",
       "      <td>Fix</td>\n",
       "    </tr>\n",
       "    <tr>\n",
       "      <th>8</th>\n",
       "      <td>Person</td>\n",
       "      <td>Binary</td>\n",
       "      <td>0.0</td>\n",
       "      <td>1.0</td>\n",
       "      <td>Yes</td>\n",
       "      <td>Fix</td>\n",
       "    </tr>\n",
       "    <tr>\n",
       "      <th>9</th>\n",
       "      <td>Male</td>\n",
       "      <td>Binary</td>\n",
       "      <td>0.0</td>\n",
       "      <td>1.0</td>\n",
       "      <td>Yes</td>\n",
       "      <td>Fix</td>\n",
       "    </tr>\n",
       "    <tr>\n",
       "      <th>10</th>\n",
       "      <td>Priors</td>\n",
       "      <td>Integer</td>\n",
       "      <td>0.0</td>\n",
       "      <td>40.0</td>\n",
       "      <td>Yes</td>\n",
       "      <td>Fix</td>\n",
       "    </tr>\n",
       "    <tr>\n",
       "      <th>11</th>\n",
       "      <td>School</td>\n",
       "      <td>Integer</td>\n",
       "      <td>1.0</td>\n",
       "      <td>19.0</td>\n",
       "      <td>No</td>\n",
       "      <td>Nothing</td>\n",
       "    </tr>\n",
       "    <tr>\n",
       "      <th>12</th>\n",
       "      <td>Rule</td>\n",
       "      <td>Integer</td>\n",
       "      <td>0.0</td>\n",
       "      <td>39.0</td>\n",
       "      <td>No</td>\n",
       "      <td>Nothing</td>\n",
       "    </tr>\n",
       "    <tr>\n",
       "      <th>13</th>\n",
       "      <td>Age</td>\n",
       "      <td>Integer</td>\n",
       "      <td>15.0</td>\n",
       "      <td>72.0</td>\n",
       "      <td>Yes</td>\n",
       "      <td>Fix</td>\n",
       "    </tr>\n",
       "    <tr>\n",
       "      <th>14</th>\n",
       "      <td>Tservd</td>\n",
       "      <td>Integer</td>\n",
       "      <td>1.0</td>\n",
       "      <td>287.0</td>\n",
       "      <td>Yes</td>\n",
       "      <td>Fix</td>\n",
       "    </tr>\n",
       "    <tr>\n",
       "      <th>15</th>\n",
       "      <td>Follow</td>\n",
       "      <td>Integer</td>\n",
       "      <td>46.0</td>\n",
       "      <td>57.0</td>\n",
       "      <td>Yes</td>\n",
       "      <td>Fix</td>\n",
       "    </tr>\n",
       "  </tbody>\n",
       "</table>\n",
       "</div>"
      ],
      "text/plain": [
       "    Feature     Type   Min    Max Immutable Constraint\n",
       "0     White   Binary   0.0    1.0       Yes        Fix\n",
       "1     Alchy   Binary   0.0    1.0        No    Nothing\n",
       "2     Junky   Binary   0.0    1.0        No    Nothing\n",
       "3     Super   Binary   0.0    1.0       Yes        Fix\n",
       "4   Married   Binary   0.0    1.0       Yes        Fix\n",
       "5     Felon   Binary   0.0    1.0       Yes        Fix\n",
       "6   Workrel   Binary   0.0    1.0        No    Nothing\n",
       "7    Propty   Binary   0.0    1.0       Yes        Fix\n",
       "8    Person   Binary   0.0    1.0       Yes        Fix\n",
       "9      Male   Binary   0.0    1.0       Yes        Fix\n",
       "10   Priors  Integer   0.0   40.0       Yes        Fix\n",
       "11   School  Integer   1.0   19.0        No    Nothing\n",
       "12     Rule  Integer   0.0   39.0        No    Nothing\n",
       "13      Age  Integer  15.0   72.0       Yes        Fix\n",
       "14   Tservd  Integer   1.0  287.0       Yes        Fix\n",
       "15   Follow  Integer  46.0   57.0       Yes        Fix"
      ]
     },
     "execution_count": 2,
     "metadata": {},
     "output_type": "execute_result"
    }
   ],
   "source": [
    "D = Dataset('b')\n",
    "X_tr, X_ts, y_tr, y_ts = D.get_dataset(split=True)\n",
    "params = D.params\n",
    "\n",
    "y_target = 0\n",
    "max_depth = 3\n",
    "cost_type = 'MPS'\n",
    "cost_budget = 0.3\n",
    "\n",
    "D.get_details()"
   ]
  },
  {
   "cell_type": "markdown",
   "metadata": {},
   "source": [
    "## Step 2. Learning Classification Tree\n",
    "For the preprocessed dataset, we learn classification trees and extract recourse actions from them. \n",
    "Our library consists of two classes: ``Action`` class for maintaining and optimizing actions; ``RecourseTreeClassifier`` class for learning classification trees with the constraint on recourse actions. \n",
    "Here, we compare our RACT to two standard baselines. "
   ]
  },
  {
   "cell_type": "markdown",
   "metadata": {},
   "source": [
    "### [Baseline 1] Standard Learning Algorithm (Vannilla)\n",
    "One baseline method is a standard learning algorithm; that is, learning classification trees with no constraint on recourse. \n",
    "We can use this method by setting ``alpha = 0.0``. "
   ]
  },
  {
   "cell_type": "code",
   "execution_count": 3,
   "metadata": {},
   "outputs": [
    {
     "data": {
      "text/html": [
       "<img src=\"https://mermaid.ink/img/Z3JhcGggTFI7IE4xNChbUnVsZSA8PSAyXSk7IE4xMyhbUnVsZSA8PSAxNF0pOyBOMTIoW1RzZXJ2ZCA8PSA3MF0pOyBOMTFbWyJSZWNpZGl2YXRlOiA8Yj5ObzwvYj4gKDY0LjclKSJdXTsgTjEwW1siUmVjaWRpdmF0ZTogPGI+WWVzPC9iPiAoODAuMCUpIl1dOyBOOShbU2Nob29sIDw9IDEzXSk7IE44W1siUmVjaWRpdmF0ZTogPGI+WWVzPC9iPiAoNzIuNyUpIl1dOyBON1tbIlJlY2lkaXZhdGU6IDxiPk5vPC9iPiAoNTYuNyUpIl1dOyBONihbUHJpb3JzIDw9IDVdKTsgTjUoW1RzZXJ2ZCA8PSA1NF0pOyBONFtbIlJlY2lkaXZhdGU6IDxiPlllczwvYj4gKDgyLjglKSJdXTsgTjNbWyJSZWNpZGl2YXRlOiA8Yj5ObzwvYj4gKDU5LjklKSJdXTsgTjIoW1RzZXJ2ZCA8PSA2NF0pOyBOMVtbIlJlY2lkaXZhdGU6IDxiPk5vPC9iPiAoNTMuNiUpIl1dOyBOMFtbIlJlY2lkaXZhdGU6IDxiPlllczwvYj4gKDY3LjYlKSJdXTsgTjE0IC0tIFRydWUgLS0+IE42OyBOMTQgLS4gRmFsc2UgLi0+IE4xMzsgTjEzIC0tIFRydWUgLS0+IE45OyBOMTMgLS4gRmFsc2UgLi0+IE4xMjsgTjEyIC0tIFRydWUgLS0+IE4xMDsgTjEyIC0uIEZhbHNlIC4tPiBOMTE7IE45IC0tIFRydWUgLS0+IE43OyBOOSAtLiBGYWxzZSAuLT4gTjg7IE42IC0tIFRydWUgLS0+IE4yOyBONiAtLiBGYWxzZSAuLT4gTjU7IE41IC0tIFRydWUgLS0+IE4zOyBONSAtLiBGYWxzZSAuLT4gTjQ7IE4yIC0tIFRydWUgLS0+IE4wOyBOMiAtLiBGYWxzZSAuLT4gTjE7IA==\"/>"
      ],
      "text/plain": [
       "<IPython.core.display.Image object>"
      ]
     },
     "metadata": {},
     "output_type": "display_data"
    }
   ],
   "source": [
    "action = Action(X_tr, y_target=y_target, cost_type=cost_type, cost_budget=cost_budget, **params)\n",
    "clf = RecourseTreeClassifier(action, max_depth=max_depth)\n",
    "\n",
    "clf.action.alpha = 0.0\n",
    "clf = clf.fit(X_tr, y_tr)\n",
    "\n",
    "X_target = X_ts[clf.predict(X_ts) != action.y_target]\n",
    "actions = clf.explain_action(X_target)\n",
    "\n",
    "results['Method'].append('Vanilla')\n",
    "results['Accuracy'].append(clf.score(X_ts, y_ts))\n",
    "results['Recourse'].append(1 - (~actions['cost-validity']).sum() / X_ts.shape[0])\n",
    "\n",
    "clf.draw_tree()"
   ]
  },
  {
   "cell_type": "markdown",
   "metadata": {},
   "source": [
    "### [Baseline 2] Learning with Only Actionable Feature (OAF)\n",
    "Another baseline approach is to learn classification trees using only actionable features, i.e., features that can be changed by actions. \n",
    "We can use this method by setting ``alpha = 0.0`` and ``feature_masking = True``. "
   ]
  },
  {
   "cell_type": "code",
   "execution_count": 4,
   "metadata": {},
   "outputs": [
    {
     "data": {
      "text/html": [
       "<img src=\"https://mermaid.ink/img/Z3JhcGggTFI7IE4xMihbUnVsZSA8PSAyXSk7IE4xMShbUnVsZSA8PSAxNF0pOyBOMTAoW0FsY2h5XSk7IE45W1siUmVjaWRpdmF0ZTogPGI+WWVzPC9iPiAoNTcuMSUpIl1dOyBOOFtbIlJlY2lkaXZhdGU6IDxiPlllczwvYj4gKDczLjUlKSJdXTsgTjcoW1NjaG9vbCA8PSAxM10pOyBONltbIlJlY2lkaXZhdGU6IDxiPlllczwvYj4gKDcyLjclKSJdXTsgTjVbWyJSZWNpZGl2YXRlOiA8Yj5ObzwvYj4gKDU2LjclKSJdXTsgTjQoW0FsY2h5XSk7IE4zKFtSdWxlIDw9IDFdKTsgTjJbWyJSZWNpZGl2YXRlOiA8Yj5ObzwvYj4gKDU2LjQlKSJdXTsgTjFbWyJSZWNpZGl2YXRlOiA8Yj5ZZXM8L2I+ICg2NC40JSkiXV07IE4wW1siUmVjaWRpdmF0ZTogPGI+WWVzPC9iPiAoNjcuOCUpIl1dOyBOMTIgLS0gVHJ1ZSAtLT4gTjQ7IE4xMiAtLiBGYWxzZSAuLT4gTjExOyBOMTEgLS0gVHJ1ZSAtLT4gTjc7IE4xMSAtLiBGYWxzZSAuLT4gTjEwOyBOMTAgLS0gVHJ1ZSAtLT4gTjk7IE4xMCAtLiBGYWxzZSAuLT4gTjg7IE43IC0tIFRydWUgLS0+IE41OyBONyAtLiBGYWxzZSAuLT4gTjY7IE40IC0tIFRydWUgLS0+IE4zOyBONCAtLiBGYWxzZSAuLT4gTjA7IE4zIC0tIFRydWUgLS0+IE4xOyBOMyAtLiBGYWxzZSAuLT4gTjI7IA==\"/>"
      ],
      "text/plain": [
       "<IPython.core.display.Image object>"
      ]
     },
     "metadata": {},
     "output_type": "display_data"
    }
   ],
   "source": [
    "action = Action(X_tr, y_target=y_target, cost_type=cost_type, cost_budget=cost_budget, **params)\n",
    "clf = RecourseTreeClassifier(action, max_depth=max_depth, feature_masking=True)\n",
    "\n",
    "clf.action.alpha = 0.0\n",
    "clf = clf.fit(X_tr, y_tr)\n",
    "\n",
    "X_target = X_ts[clf.predict(X_ts) != action.y_target]\n",
    "actions = clf.explain_action(X_target)\n",
    "\n",
    "results['Method'].append('OAF')\n",
    "results['Accuracy'].append(clf.score(X_ts, y_ts))\n",
    "results['Recourse'].append(1 - (~actions['cost-validity']).sum() / X_ts.shape[0])\n",
    "\n",
    "clf.draw_tree()"
   ]
  },
  {
   "cell_type": "markdown",
   "metadata": {},
   "source": [
    "### [Proposed] Recourse-Aware Classification Tree (RACT)\n",
    "Our proposed approach, named RACT, is to learn classification trees while guaranteeing the existence of recourse actions. \n",
    "We can use RACT by setting ``alpha > 0``. "
   ]
  },
  {
   "cell_type": "code",
   "execution_count": 5,
   "metadata": {},
   "outputs": [
    {
     "data": {
      "text/html": [
       "<img src=\"https://mermaid.ink/img/Z3JhcGggTFI7IE4xMChbUnVsZSA8PSAyXSk7IE45KFtSdWxlIDw9IDE0XSk7IE44W1siUmVjaWRpdmF0ZTogPGI+WWVzPC9iPiAoNzAuNyUpIl1dOyBONyhbU2Nob29sIDw9IDEzXSk7IE42W1siUmVjaWRpdmF0ZTogPGI+WWVzPC9iPiAoNzIuNyUpIl1dOyBONVtbIlJlY2lkaXZhdGU6IDxiPk5vPC9iPiAoNTYuNyUpIl1dOyBONChbU2Nob29sIDw9IDE3XSk7IE4zW1siUmVjaWRpdmF0ZTogPGI+Tm88L2I+ICgxMC4wJSkiXV07IE4yKFtTY2hvb2wgPD0gMV0pOyBOMVtbIlJlY2lkaXZhdGU6IDxiPlllczwvYj4gKDY1LjklKSJdXTsgTjBbWyJSZWNpZGl2YXRlOiA8Yj5ObzwvYj4gKDUwLjAlKSJdXTsgTjEwIC0tIFRydWUgLS0+IE40OyBOMTAgLS4gRmFsc2UgLi0+IE45OyBOOSAtLSBUcnVlIC0tPiBONzsgTjkgLS4gRmFsc2UgLi0+IE44OyBONyAtLSBUcnVlIC0tPiBONTsgTjcgLS4gRmFsc2UgLi0+IE42OyBONCAtLSBUcnVlIC0tPiBOMjsgTjQgLS4gRmFsc2UgLi0+IE4zOyBOMiAtLSBUcnVlIC0tPiBOMDsgTjIgLS4gRmFsc2UgLi0+IE4xOyA=\"/>"
      ],
      "text/plain": [
       "<IPython.core.display.Image object>"
      ]
     },
     "metadata": {},
     "output_type": "display_data"
    }
   ],
   "source": [
    "action = Action(X_tr, y_target=y_target, cost_type=cost_type, cost_budget=cost_budget, **params)\n",
    "clf = RecourseTreeClassifier(action, max_depth=max_depth)\n",
    "\n",
    "clf.action.alpha = 0.1\n",
    "clf = clf.fit(X_tr, y_tr)\n",
    "\n",
    "X_target = X_ts[clf.predict(X_ts) != action.y_target]\n",
    "actions = clf.explain_action(X_target)\n",
    "\n",
    "results['Method'].append('RACT')\n",
    "results['Accuracy'].append(clf.score(X_ts, y_ts))\n",
    "results['Recourse'].append(1 - (~actions['cost-validity']).sum() / X_ts.shape[0])\n",
    "\n",
    "clf.draw_tree()"
   ]
  },
  {
   "cell_type": "markdown",
   "metadata": {},
   "source": [
    "## Step 3. Compare Performance\n",
    "Now, we compare the performance of RACT to those of the baselines. \n",
    "We can see that RACT could guarantee recourse actions for more individuals than the baselines (right figure), while maintaining comparable accuracy to them (left figure). "
   ]
  },
  {
   "cell_type": "code",
   "execution_count": 6,
   "metadata": {},
   "outputs": [
    {
     "data": {
      "image/png": "[encoded data removed]",
      "text/plain": [
       "<Figure size 640x480 with 2 Axes>"
      ]
     },
     "metadata": {},
     "output_type": "display_data"
    }
   ],
   "source": [
    "results = pd.DataFrame(results)\n",
    "\n",
    "plt.subplot(1, 2, 1)\n",
    "plots = sns.barplot(x='Method', y=\"Accuracy\", data=results)\n",
    "for bar in plots.patches:\n",
    "  plots.annotate('{:.1%}'.format(bar.get_height()), (bar.get_x() + bar.get_width()/2, bar.get_height()), \n",
    "                 ha='center', va='center',size=10, xytext=(0, 8), textcoords='offset points')\n",
    "plt.title('Test Accuracy')\n",
    "\n",
    "plt.subplot(1, 2, 2)\n",
    "plots = sns.barplot(x='Method', y=\"Recourse\", data=results)\n",
    "for bar in plots.patches:\n",
    "  plots.annotate('{:.1%}'.format(bar.get_height()), (bar.get_x() + bar.get_width()/2, bar.get_height()), \n",
    "                 ha='center', va='center',size=10, xytext=(0, 8), textcoords='offset points')\n",
    "plt.title('Recourse Ratio')\n",
    "\n",
    "plt.suptitle('Comparison of Accuracy & Recourse')\n",
    "plt.tight_layout()"
   ]
  },
  {
   "cell_type": "code",
   "execution_count": null,
   "metadata": {},
   "outputs": [],
   "source": []
  }
 ],
 "metadata": {
  "kernelspec": {
   "display_name": "Python 3",
   "language": "python",
   "name": "python3"
  },
  "language_info": {
   "codemirror_mode": {
    "name": "ipython",
    "version": 3
   },
   "file_extension": ".py",
   "mimetype": "text/x-python",
   "name": "python",
   "nbconvert_exporter": "python",
   "pygments_lexer": "ipython3",
   "version": "3.10.10"
  },
  "orig_nbformat": 4
 },
 "nbformat": 4,
 "nbformat_minor": 2
}
